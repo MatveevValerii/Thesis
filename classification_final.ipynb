{
 "cells": [
  {
   "cell_type": "code",
   "execution_count": 1,
   "id": "9caa10e2-20a9-4ffe-875f-45ee77b861b2",
   "metadata": {},
   "outputs": [],
   "source": [
    "from sklearn.model_selection import train_test_split\n",
    "import pandas as pd\n",
    "from sklearn import svm\n",
    "from sklearn import metrics\n",
    "from sklearn.metrics import confusion_matrix\n",
    "import seaborn as sn\n",
    "from sklearn.preprocessing import StandardScaler"
   ]
  },
  {
   "cell_type": "code",
   "execution_count": 2,
   "id": "2269920b-458b-439f-8343-cd2b480dda08",
   "metadata": {},
   "outputs": [],
   "source": [
    "df = pd.read_csv(\"dataset\")\n",
    "df = df.drop(['Unnamed: 0'], axis = 1)"
   ]
  },
  {
   "cell_type": "code",
   "execution_count": 3,
   "id": "b910976e-ca01-4528-ae17-f63aac9a1679",
   "metadata": {},
   "outputs": [
    {
     "data": {
      "text/html": [
       "<div>\n",
       "<style scoped>\n",
       "    .dataframe tbody tr th:only-of-type {\n",
       "        vertical-align: middle;\n",
       "    }\n",
       "\n",
       "    .dataframe tbody tr th {\n",
       "        vertical-align: top;\n",
       "    }\n",
       "\n",
       "    .dataframe thead th {\n",
       "        text-align: right;\n",
       "    }\n",
       "</style>\n",
       "<table border=\"1\" class=\"dataframe\">\n",
       "  <thead>\n",
       "    <tr style=\"text-align: right;\">\n",
       "      <th></th>\n",
       "      <th>label</th>\n",
       "      <th>attack_time</th>\n",
       "      <th>lat</th>\n",
       "      <th>slope</th>\n",
       "      <th>ste</th>\n",
       "      <th>zcr</th>\n",
       "      <th>length_of_low</th>\n",
       "      <th>length_of_high</th>\n",
       "    </tr>\n",
       "  </thead>\n",
       "  <tbody>\n",
       "    <tr>\n",
       "      <th>0</th>\n",
       "      <td>step</td>\n",
       "      <td>72</td>\n",
       "      <td>1.857332</td>\n",
       "      <td>151476.684570</td>\n",
       "      <td>1.821737e+06</td>\n",
       "      <td>698</td>\n",
       "      <td>748</td>\n",
       "      <td>12052</td>\n",
       "    </tr>\n",
       "    <tr>\n",
       "      <th>1</th>\n",
       "      <td>knock</td>\n",
       "      <td>44</td>\n",
       "      <td>1.643453</td>\n",
       "      <td>437771.484375</td>\n",
       "      <td>6.487436e+06</td>\n",
       "      <td>826</td>\n",
       "      <td>397</td>\n",
       "      <td>12403</td>\n",
       "    </tr>\n",
       "    <tr>\n",
       "      <th>2</th>\n",
       "      <td>step</td>\n",
       "      <td>67</td>\n",
       "      <td>1.826075</td>\n",
       "      <td>108438.571304</td>\n",
       "      <td>1.298642e+06</td>\n",
       "      <td>693</td>\n",
       "      <td>781</td>\n",
       "      <td>12019</td>\n",
       "    </tr>\n",
       "    <tr>\n",
       "      <th>3</th>\n",
       "      <td>clap</td>\n",
       "      <td>30</td>\n",
       "      <td>1.477121</td>\n",
       "      <td>210559.033203</td>\n",
       "      <td>9.876324e+04</td>\n",
       "      <td>935</td>\n",
       "      <td>6978</td>\n",
       "      <td>5822</td>\n",
       "    </tr>\n",
       "    <tr>\n",
       "      <th>4</th>\n",
       "      <td>step</td>\n",
       "      <td>114</td>\n",
       "      <td>2.056905</td>\n",
       "      <td>64088.683011</td>\n",
       "      <td>9.869711e+05</td>\n",
       "      <td>672</td>\n",
       "      <td>859</td>\n",
       "      <td>11941</td>\n",
       "    </tr>\n",
       "    <tr>\n",
       "      <th>5</th>\n",
       "      <td>clap</td>\n",
       "      <td>203</td>\n",
       "      <td>2.307496</td>\n",
       "      <td>3660.545312</td>\n",
       "      <td>1.360950e+04</td>\n",
       "      <td>1004</td>\n",
       "      <td>7762</td>\n",
       "      <td>5038</td>\n",
       "    </tr>\n",
       "    <tr>\n",
       "      <th>6</th>\n",
       "      <td>knock</td>\n",
       "      <td>49</td>\n",
       "      <td>1.690196</td>\n",
       "      <td>72049.615354</td>\n",
       "      <td>5.413675e+04</td>\n",
       "      <td>855</td>\n",
       "      <td>5675</td>\n",
       "      <td>7125</td>\n",
       "    </tr>\n",
       "    <tr>\n",
       "      <th>7</th>\n",
       "      <td>step</td>\n",
       "      <td>94</td>\n",
       "      <td>1.973128</td>\n",
       "      <td>75298.381400</td>\n",
       "      <td>1.003113e+06</td>\n",
       "      <td>735</td>\n",
       "      <td>850</td>\n",
       "      <td>11950</td>\n",
       "    </tr>\n",
       "    <tr>\n",
       "      <th>8</th>\n",
       "      <td>step</td>\n",
       "      <td>71</td>\n",
       "      <td>1.851258</td>\n",
       "      <td>146130.488006</td>\n",
       "      <td>1.579280e+06</td>\n",
       "      <td>760</td>\n",
       "      <td>760</td>\n",
       "      <td>12040</td>\n",
       "    </tr>\n",
       "    <tr>\n",
       "      <th>9</th>\n",
       "      <td>clap</td>\n",
       "      <td>61</td>\n",
       "      <td>1.785330</td>\n",
       "      <td>20002.441406</td>\n",
       "      <td>2.537886e+04</td>\n",
       "      <td>1029</td>\n",
       "      <td>7668</td>\n",
       "      <td>5132</td>\n",
       "    </tr>\n",
       "  </tbody>\n",
       "</table>\n",
       "</div>"
      ],
      "text/plain": [
       "   label  attack_time       lat          slope           ste   zcr   \n",
       "0   step           72  1.857332  151476.684570  1.821737e+06   698  \\\n",
       "1  knock           44  1.643453  437771.484375  6.487436e+06   826   \n",
       "2   step           67  1.826075  108438.571304  1.298642e+06   693   \n",
       "3   clap           30  1.477121  210559.033203  9.876324e+04   935   \n",
       "4   step          114  2.056905   64088.683011  9.869711e+05   672   \n",
       "5   clap          203  2.307496    3660.545312  1.360950e+04  1004   \n",
       "6  knock           49  1.690196   72049.615354  5.413675e+04   855   \n",
       "7   step           94  1.973128   75298.381400  1.003113e+06   735   \n",
       "8   step           71  1.851258  146130.488006  1.579280e+06   760   \n",
       "9   clap           61  1.785330   20002.441406  2.537886e+04  1029   \n",
       "\n",
       "   length_of_low  length_of_high  \n",
       "0            748           12052  \n",
       "1            397           12403  \n",
       "2            781           12019  \n",
       "3           6978            5822  \n",
       "4            859           11941  \n",
       "5           7762            5038  \n",
       "6           5675            7125  \n",
       "7            850           11950  \n",
       "8            760           12040  \n",
       "9           7668            5132  "
      ]
     },
     "execution_count": 3,
     "metadata": {},
     "output_type": "execute_result"
    }
   ],
   "source": [
    "df = df.sample(frac=1).reset_index(drop=True)\n",
    "#df = df.replace({'noise':'other', 'clap':'other', 'knock':'other'})\n",
    "df.head(10)"
   ]
  },
  {
   "cell_type": "code",
   "execution_count": 4,
   "id": "a9fb8a63-1e93-424f-8f54-9bc9ed632e5f",
   "metadata": {},
   "outputs": [
    {
     "data": {
      "text/html": [
       "<div>\n",
       "<style scoped>\n",
       "    .dataframe tbody tr th:only-of-type {\n",
       "        vertical-align: middle;\n",
       "    }\n",
       "\n",
       "    .dataframe tbody tr th {\n",
       "        vertical-align: top;\n",
       "    }\n",
       "\n",
       "    .dataframe thead th {\n",
       "        text-align: right;\n",
       "    }\n",
       "</style>\n",
       "<table border=\"1\" class=\"dataframe\">\n",
       "  <thead>\n",
       "    <tr style=\"text-align: right;\">\n",
       "      <th></th>\n",
       "      <th>attack_time</th>\n",
       "      <th>lat</th>\n",
       "      <th>slope</th>\n",
       "      <th>ste</th>\n",
       "      <th>zcr</th>\n",
       "      <th>length_of_low</th>\n",
       "      <th>length_of_high</th>\n",
       "    </tr>\n",
       "  </thead>\n",
       "  <tbody>\n",
       "    <tr>\n",
       "      <th>count</th>\n",
       "      <td>486.00000</td>\n",
       "      <td>486.000000</td>\n",
       "      <td>4.860000e+02</td>\n",
       "      <td>4.860000e+02</td>\n",
       "      <td>486.000000</td>\n",
       "      <td>486.000000</td>\n",
       "      <td>486.000000</td>\n",
       "    </tr>\n",
       "    <tr>\n",
       "      <th>mean</th>\n",
       "      <td>128.67284</td>\n",
       "      <td>1.867169</td>\n",
       "      <td>1.573403e+05</td>\n",
       "      <td>1.229078e+06</td>\n",
       "      <td>842.294239</td>\n",
       "      <td>2728.364198</td>\n",
       "      <td>10071.611111</td>\n",
       "    </tr>\n",
       "    <tr>\n",
       "      <th>std</th>\n",
       "      <td>507.77733</td>\n",
       "      <td>0.352749</td>\n",
       "      <td>2.067860e+05</td>\n",
       "      <td>2.061639e+06</td>\n",
       "      <td>198.626858</td>\n",
       "      <td>2506.481316</td>\n",
       "      <td>2506.462665</td>\n",
       "    </tr>\n",
       "    <tr>\n",
       "      <th>min</th>\n",
       "      <td>8.00000</td>\n",
       "      <td>0.903090</td>\n",
       "      <td>8.661145e+02</td>\n",
       "      <td>1.263371e+04</td>\n",
       "      <td>357.000000</td>\n",
       "      <td>310.000000</td>\n",
       "      <td>4867.000000</td>\n",
       "    </tr>\n",
       "    <tr>\n",
       "      <th>25%</th>\n",
       "      <td>47.00000</td>\n",
       "      <td>1.672098</td>\n",
       "      <td>4.610108e+04</td>\n",
       "      <td>9.062196e+04</td>\n",
       "      <td>713.250000</td>\n",
       "      <td>816.250000</td>\n",
       "      <td>7123.500000</td>\n",
       "    </tr>\n",
       "    <tr>\n",
       "      <th>50%</th>\n",
       "      <td>68.00000</td>\n",
       "      <td>1.832509</td>\n",
       "      <td>9.200809e+04</td>\n",
       "      <td>9.251062e+05</td>\n",
       "      <td>777.000000</td>\n",
       "      <td>1037.000000</td>\n",
       "      <td>11763.000000</td>\n",
       "    </tr>\n",
       "    <tr>\n",
       "      <th>75%</th>\n",
       "      <td>112.00000</td>\n",
       "      <td>2.049218</td>\n",
       "      <td>1.805730e+05</td>\n",
       "      <td>1.489945e+06</td>\n",
       "      <td>911.000000</td>\n",
       "      <td>5676.500000</td>\n",
       "      <td>11983.750000</td>\n",
       "    </tr>\n",
       "    <tr>\n",
       "      <th>max</th>\n",
       "      <td>9829.00000</td>\n",
       "      <td>3.992509</td>\n",
       "      <td>1.846677e+06</td>\n",
       "      <td>3.004631e+07</td>\n",
       "      <td>1839.000000</td>\n",
       "      <td>7933.000000</td>\n",
       "      <td>12490.000000</td>\n",
       "    </tr>\n",
       "  </tbody>\n",
       "</table>\n",
       "</div>"
      ],
      "text/plain": [
       "       attack_time         lat         slope           ste          zcr   \n",
       "count    486.00000  486.000000  4.860000e+02  4.860000e+02   486.000000  \\\n",
       "mean     128.67284    1.867169  1.573403e+05  1.229078e+06   842.294239   \n",
       "std      507.77733    0.352749  2.067860e+05  2.061639e+06   198.626858   \n",
       "min        8.00000    0.903090  8.661145e+02  1.263371e+04   357.000000   \n",
       "25%       47.00000    1.672098  4.610108e+04  9.062196e+04   713.250000   \n",
       "50%       68.00000    1.832509  9.200809e+04  9.251062e+05   777.000000   \n",
       "75%      112.00000    2.049218  1.805730e+05  1.489945e+06   911.000000   \n",
       "max     9829.00000    3.992509  1.846677e+06  3.004631e+07  1839.000000   \n",
       "\n",
       "       length_of_low  length_of_high  \n",
       "count     486.000000      486.000000  \n",
       "mean     2728.364198    10071.611111  \n",
       "std      2506.481316     2506.462665  \n",
       "min       310.000000     4867.000000  \n",
       "25%       816.250000     7123.500000  \n",
       "50%      1037.000000    11763.000000  \n",
       "75%      5676.500000    11983.750000  \n",
       "max      7933.000000    12490.000000  "
      ]
     },
     "execution_count": 4,
     "metadata": {},
     "output_type": "execute_result"
    }
   ],
   "source": [
    "df.describe()"
   ]
  },
  {
   "cell_type": "code",
   "execution_count": 5,
   "id": "6e1b3a64-06d3-4df0-8bd8-4b8149571d0c",
   "metadata": {},
   "outputs": [],
   "source": [
    "df = df.drop(df[df.attack_time > 2000].index, inplace = False)\n",
    "df = df.drop(df[df.slope > 900000].index, inplace = False)\n",
    "df = df.drop(df[df.ste > 6000000].index, inplace = False)\n",
    "df = df.drop(df[df.length_of_high > 12500].index, inplace = False)\n",
    "df = df.drop(df[df.attack_time < 10].index, inplace = False)\n",
    "df = df.drop(df[df.slope < 2000].index, inplace = False)\n"
   ]
  },
  {
   "cell_type": "code",
   "execution_count": 6,
   "id": "833cd240-1745-4b48-b81e-104939868fea",
   "metadata": {},
   "outputs": [
    {
     "data": {
      "text/html": [
       "<div>\n",
       "<style scoped>\n",
       "    .dataframe tbody tr th:only-of-type {\n",
       "        vertical-align: middle;\n",
       "    }\n",
       "\n",
       "    .dataframe tbody tr th {\n",
       "        vertical-align: top;\n",
       "    }\n",
       "\n",
       "    .dataframe thead th {\n",
       "        text-align: right;\n",
       "    }\n",
       "</style>\n",
       "<table border=\"1\" class=\"dataframe\">\n",
       "  <thead>\n",
       "    <tr style=\"text-align: right;\">\n",
       "      <th></th>\n",
       "      <th>attack_time</th>\n",
       "      <th>lat</th>\n",
       "      <th>slope</th>\n",
       "      <th>ste</th>\n",
       "      <th>zcr</th>\n",
       "      <th>length_of_low</th>\n",
       "      <th>length_of_high</th>\n",
       "    </tr>\n",
       "  </thead>\n",
       "  <tbody>\n",
       "    <tr>\n",
       "      <th>count</th>\n",
       "      <td>455.000000</td>\n",
       "      <td>455.000000</td>\n",
       "      <td>455.000000</td>\n",
       "      <td>4.550000e+02</td>\n",
       "      <td>455.000000</td>\n",
       "      <td>455.000000</td>\n",
       "      <td>455.000000</td>\n",
       "    </tr>\n",
       "    <tr>\n",
       "      <th>mean</th>\n",
       "      <td>94.512088</td>\n",
       "      <td>1.856187</td>\n",
       "      <td>136733.884323</td>\n",
       "      <td>8.958488e+05</td>\n",
       "      <td>841.589011</td>\n",
       "      <td>2815.331868</td>\n",
       "      <td>9984.641758</td>\n",
       "    </tr>\n",
       "    <tr>\n",
       "      <th>std</th>\n",
       "      <td>87.164179</td>\n",
       "      <td>0.306304</td>\n",
       "      <td>135511.444851</td>\n",
       "      <td>9.257223e+05</td>\n",
       "      <td>194.054662</td>\n",
       "      <td>2503.545942</td>\n",
       "      <td>2503.525076</td>\n",
       "    </tr>\n",
       "    <tr>\n",
       "      <th>min</th>\n",
       "      <td>12.000000</td>\n",
       "      <td>1.079181</td>\n",
       "      <td>2012.903914</td>\n",
       "      <td>1.263371e+04</td>\n",
       "      <td>357.000000</td>\n",
       "      <td>310.000000</td>\n",
       "      <td>4867.000000</td>\n",
       "    </tr>\n",
       "    <tr>\n",
       "      <th>25%</th>\n",
       "      <td>47.000000</td>\n",
       "      <td>1.672098</td>\n",
       "      <td>45497.761737</td>\n",
       "      <td>8.506303e+04</td>\n",
       "      <td>713.000000</td>\n",
       "      <td>839.000000</td>\n",
       "      <td>7084.500000</td>\n",
       "    </tr>\n",
       "    <tr>\n",
       "      <th>50%</th>\n",
       "      <td>67.000000</td>\n",
       "      <td>1.826075</td>\n",
       "      <td>90415.288398</td>\n",
       "      <td>8.699814e+05</td>\n",
       "      <td>777.000000</td>\n",
       "      <td>1074.000000</td>\n",
       "      <td>11726.000000</td>\n",
       "    </tr>\n",
       "    <tr>\n",
       "      <th>75%</th>\n",
       "      <td>106.000000</td>\n",
       "      <td>2.025306</td>\n",
       "      <td>173183.640544</td>\n",
       "      <td>1.371517e+06</td>\n",
       "      <td>920.500000</td>\n",
       "      <td>5715.500000</td>\n",
       "      <td>11961.000000</td>\n",
       "    </tr>\n",
       "    <tr>\n",
       "      <th>max</th>\n",
       "      <td>688.000000</td>\n",
       "      <td>2.837588</td>\n",
       "      <td>762771.891276</td>\n",
       "      <td>5.577913e+06</td>\n",
       "      <td>1554.000000</td>\n",
       "      <td>7933.000000</td>\n",
       "      <td>12490.000000</td>\n",
       "    </tr>\n",
       "  </tbody>\n",
       "</table>\n",
       "</div>"
      ],
      "text/plain": [
       "       attack_time         lat          slope           ste          zcr   \n",
       "count   455.000000  455.000000     455.000000  4.550000e+02   455.000000  \\\n",
       "mean     94.512088    1.856187  136733.884323  8.958488e+05   841.589011   \n",
       "std      87.164179    0.306304  135511.444851  9.257223e+05   194.054662   \n",
       "min      12.000000    1.079181    2012.903914  1.263371e+04   357.000000   \n",
       "25%      47.000000    1.672098   45497.761737  8.506303e+04   713.000000   \n",
       "50%      67.000000    1.826075   90415.288398  8.699814e+05   777.000000   \n",
       "75%     106.000000    2.025306  173183.640544  1.371517e+06   920.500000   \n",
       "max     688.000000    2.837588  762771.891276  5.577913e+06  1554.000000   \n",
       "\n",
       "       length_of_low  length_of_high  \n",
       "count     455.000000      455.000000  \n",
       "mean     2815.331868     9984.641758  \n",
       "std      2503.545942     2503.525076  \n",
       "min       310.000000     4867.000000  \n",
       "25%       839.000000     7084.500000  \n",
       "50%      1074.000000    11726.000000  \n",
       "75%      5715.500000    11961.000000  \n",
       "max      7933.000000    12490.000000  "
      ]
     },
     "execution_count": 6,
     "metadata": {},
     "output_type": "execute_result"
    }
   ],
   "source": [
    "df.describe()"
   ]
  },
  {
   "cell_type": "code",
   "execution_count": 33,
   "id": "1badefe1-fd19-4618-9836-937bdfa279b2",
   "metadata": {},
   "outputs": [],
   "source": [
    "X = df[['attack_time','lat','slope','zcr', 'length_of_high', 'length_of_low']]\n",
    "y = df['label'] "
   ]
  },
  {
   "cell_type": "code",
   "execution_count": 34,
   "id": "1b498a53-89ee-4ffd-8c93-048467bf7cf6",
   "metadata": {},
   "outputs": [],
   "source": [
    "X_train, x_test, y_train, y_test = train_test_split(X, y, test_size=0.35, random_state = 40)"
   ]
  },
  {
   "cell_type": "code",
   "execution_count": 35,
   "id": "7f8b16c9-b9c3-4b1f-a929-97f2ce741aaf",
   "metadata": {},
   "outputs": [],
   "source": [
    "clf = svm.SVC(kernel='linear', gamma = 0.002)"
   ]
  },
  {
   "cell_type": "code",
   "execution_count": 36,
   "id": "c9ba9d20-e18f-4eb2-8c72-c047e56146f9",
   "metadata": {},
   "outputs": [
    {
     "data": {
      "text/html": [
       "<style>#sk-container-id-3 {color: black;background-color: white;}#sk-container-id-3 pre{padding: 0;}#sk-container-id-3 div.sk-toggleable {background-color: white;}#sk-container-id-3 label.sk-toggleable__label {cursor: pointer;display: block;width: 100%;margin-bottom: 0;padding: 0.3em;box-sizing: border-box;text-align: center;}#sk-container-id-3 label.sk-toggleable__label-arrow:before {content: \"▸\";float: left;margin-right: 0.25em;color: #696969;}#sk-container-id-3 label.sk-toggleable__label-arrow:hover:before {color: black;}#sk-container-id-3 div.sk-estimator:hover label.sk-toggleable__label-arrow:before {color: black;}#sk-container-id-3 div.sk-toggleable__content {max-height: 0;max-width: 0;overflow: hidden;text-align: left;background-color: #f0f8ff;}#sk-container-id-3 div.sk-toggleable__content pre {margin: 0.2em;color: black;border-radius: 0.25em;background-color: #f0f8ff;}#sk-container-id-3 input.sk-toggleable__control:checked~div.sk-toggleable__content {max-height: 200px;max-width: 100%;overflow: auto;}#sk-container-id-3 input.sk-toggleable__control:checked~label.sk-toggleable__label-arrow:before {content: \"▾\";}#sk-container-id-3 div.sk-estimator input.sk-toggleable__control:checked~label.sk-toggleable__label {background-color: #d4ebff;}#sk-container-id-3 div.sk-label input.sk-toggleable__control:checked~label.sk-toggleable__label {background-color: #d4ebff;}#sk-container-id-3 input.sk-hidden--visually {border: 0;clip: rect(1px 1px 1px 1px);clip: rect(1px, 1px, 1px, 1px);height: 1px;margin: -1px;overflow: hidden;padding: 0;position: absolute;width: 1px;}#sk-container-id-3 div.sk-estimator {font-family: monospace;background-color: #f0f8ff;border: 1px dotted black;border-radius: 0.25em;box-sizing: border-box;margin-bottom: 0.5em;}#sk-container-id-3 div.sk-estimator:hover {background-color: #d4ebff;}#sk-container-id-3 div.sk-parallel-item::after {content: \"\";width: 100%;border-bottom: 1px solid gray;flex-grow: 1;}#sk-container-id-3 div.sk-label:hover label.sk-toggleable__label {background-color: #d4ebff;}#sk-container-id-3 div.sk-serial::before {content: \"\";position: absolute;border-left: 1px solid gray;box-sizing: border-box;top: 0;bottom: 0;left: 50%;z-index: 0;}#sk-container-id-3 div.sk-serial {display: flex;flex-direction: column;align-items: center;background-color: white;padding-right: 0.2em;padding-left: 0.2em;position: relative;}#sk-container-id-3 div.sk-item {position: relative;z-index: 1;}#sk-container-id-3 div.sk-parallel {display: flex;align-items: stretch;justify-content: center;background-color: white;position: relative;}#sk-container-id-3 div.sk-item::before, #sk-container-id-3 div.sk-parallel-item::before {content: \"\";position: absolute;border-left: 1px solid gray;box-sizing: border-box;top: 0;bottom: 0;left: 50%;z-index: -1;}#sk-container-id-3 div.sk-parallel-item {display: flex;flex-direction: column;z-index: 1;position: relative;background-color: white;}#sk-container-id-3 div.sk-parallel-item:first-child::after {align-self: flex-end;width: 50%;}#sk-container-id-3 div.sk-parallel-item:last-child::after {align-self: flex-start;width: 50%;}#sk-container-id-3 div.sk-parallel-item:only-child::after {width: 0;}#sk-container-id-3 div.sk-dashed-wrapped {border: 1px dashed gray;margin: 0 0.4em 0.5em 0.4em;box-sizing: border-box;padding-bottom: 0.4em;background-color: white;}#sk-container-id-3 div.sk-label label {font-family: monospace;font-weight: bold;display: inline-block;line-height: 1.2em;}#sk-container-id-3 div.sk-label-container {text-align: center;}#sk-container-id-3 div.sk-container {/* jupyter's `normalize.less` sets `[hidden] { display: none; }` but bootstrap.min.css set `[hidden] { display: none !important; }` so we also need the `!important` here to be able to override the default hidden behavior on the sphinx rendered scikit-learn.org. See: https://github.com/scikit-learn/scikit-learn/issues/21755 */display: inline-block !important;position: relative;}#sk-container-id-3 div.sk-text-repr-fallback {display: none;}</style><div id=\"sk-container-id-3\" class=\"sk-top-container\"><div class=\"sk-text-repr-fallback\"><pre>SVC(gamma=0.002, kernel=&#x27;linear&#x27;)</pre><b>In a Jupyter environment, please rerun this cell to show the HTML representation or trust the notebook. <br />On GitHub, the HTML representation is unable to render, please try loading this page with nbviewer.org.</b></div><div class=\"sk-container\" hidden><div class=\"sk-item\"><div class=\"sk-estimator sk-toggleable\"><input class=\"sk-toggleable__control sk-hidden--visually\" id=\"sk-estimator-id-3\" type=\"checkbox\" checked><label for=\"sk-estimator-id-3\" class=\"sk-toggleable__label sk-toggleable__label-arrow\">SVC</label><div class=\"sk-toggleable__content\"><pre>SVC(gamma=0.002, kernel=&#x27;linear&#x27;)</pre></div></div></div></div></div>"
      ],
      "text/plain": [
       "SVC(gamma=0.002, kernel='linear')"
      ]
     },
     "execution_count": 36,
     "metadata": {},
     "output_type": "execute_result"
    }
   ],
   "source": [
    "clf.fit(X_train, y_train)"
   ]
  },
  {
   "cell_type": "code",
   "execution_count": 37,
   "id": "70a451bb-2382-429f-8c1a-d7433f2dc8bd",
   "metadata": {},
   "outputs": [],
   "source": [
    "y_pred = clf.predict(x_test)"
   ]
  },
  {
   "cell_type": "code",
   "execution_count": 38,
   "id": "17b1a2d1-da40-4fa2-ad21-705532df72a8",
   "metadata": {},
   "outputs": [
    {
     "data": {
      "text/plain": [
       "label\n",
       "step     84\n",
       "clap     36\n",
       "knock    30\n",
       "noise    10\n",
       "Name: count, dtype: int64"
      ]
     },
     "execution_count": 38,
     "metadata": {},
     "output_type": "execute_result"
    }
   ],
   "source": [
    "y_test.value_counts()"
   ]
  },
  {
   "cell_type": "code",
   "execution_count": 39,
   "id": "2e551666-03a7-48bd-9fc5-92cfb774225b",
   "metadata": {},
   "outputs": [],
   "source": [
    "import matplotlib.pyplot as plt"
   ]
  },
  {
   "cell_type": "code",
   "execution_count": 40,
   "id": "c7e07905-8241-4abc-975f-96d87db78a12",
   "metadata": {},
   "outputs": [
    {
     "name": "stdout",
     "output_type": "stream",
     "text": [
      "Accuracy: 87.5\n",
      "              precision    recall  f1-score   support\n",
      "\n",
      "        clap       0.97      1.00      0.99        36\n",
      "       knock       0.74      0.87      0.80        30\n",
      "       noise       0.80      0.40      0.53        10\n",
      "        step       0.89      0.88      0.89        84\n",
      "\n",
      "    accuracy                           0.88       160\n",
      "   macro avg       0.85      0.79      0.80       160\n",
      "weighted avg       0.88      0.88      0.87       160\n",
      "\n"
     ]
    },
    {
     "data": {
      "image/png": "[encoded data removed]",
      "text/plain": [
       "<Figure size 640x480 with 2 Axes>"
      ]
     },
     "metadata": {},
     "output_type": "display_data"
    }
   ],
   "source": [
    "print(\"Accuracy:\",round(metrics.accuracy_score(y_test, y_pred)*100,2))\n",
    "print(metrics.classification_report(y_test, y_pred, digits=2))\n",
    "sn.set(font_scale=1.4) # for label size\n",
    "sn.heatmap(confusion_matrix(y_test, y_pred),xticklabels=['clap', 'knock', 'noise', 'step'], yticklabels=['clap', 'knock', 'noise', 'step'], annot=True, annot_kws={\"size\": 16})# font size\n",
    "plt.show()"
   ]
  },
  {
   "cell_type": "code",
   "execution_count": 15,
   "id": "47d7531c-3ddc-4a1a-9145-90b8476a83e7",
   "metadata": {},
   "outputs": [
    {
     "data": {
      "text/html": [
       "<style>#sk-container-id-2 {color: black;background-color: white;}#sk-container-id-2 pre{padding: 0;}#sk-container-id-2 div.sk-toggleable {background-color: white;}#sk-container-id-2 label.sk-toggleable__label {cursor: pointer;display: block;width: 100%;margin-bottom: 0;padding: 0.3em;box-sizing: border-box;text-align: center;}#sk-container-id-2 label.sk-toggleable__label-arrow:before {content: \"▸\";float: left;margin-right: 0.25em;color: #696969;}#sk-container-id-2 label.sk-toggleable__label-arrow:hover:before {color: black;}#sk-container-id-2 div.sk-estimator:hover label.sk-toggleable__label-arrow:before {color: black;}#sk-container-id-2 div.sk-toggleable__content {max-height: 0;max-width: 0;overflow: hidden;text-align: left;background-color: #f0f8ff;}#sk-container-id-2 div.sk-toggleable__content pre {margin: 0.2em;color: black;border-radius: 0.25em;background-color: #f0f8ff;}#sk-container-id-2 input.sk-toggleable__control:checked~div.sk-toggleable__content {max-height: 200px;max-width: 100%;overflow: auto;}#sk-container-id-2 input.sk-toggleable__control:checked~label.sk-toggleable__label-arrow:before {content: \"▾\";}#sk-container-id-2 div.sk-estimator input.sk-toggleable__control:checked~label.sk-toggleable__label {background-color: #d4ebff;}#sk-container-id-2 div.sk-label input.sk-toggleable__control:checked~label.sk-toggleable__label {background-color: #d4ebff;}#sk-container-id-2 input.sk-hidden--visually {border: 0;clip: rect(1px 1px 1px 1px);clip: rect(1px, 1px, 1px, 1px);height: 1px;margin: -1px;overflow: hidden;padding: 0;position: absolute;width: 1px;}#sk-container-id-2 div.sk-estimator {font-family: monospace;background-color: #f0f8ff;border: 1px dotted black;border-radius: 0.25em;box-sizing: border-box;margin-bottom: 0.5em;}#sk-container-id-2 div.sk-estimator:hover {background-color: #d4ebff;}#sk-container-id-2 div.sk-parallel-item::after {content: \"\";width: 100%;border-bottom: 1px solid gray;flex-grow: 1;}#sk-container-id-2 div.sk-label:hover label.sk-toggleable__label {background-color: #d4ebff;}#sk-container-id-2 div.sk-serial::before {content: \"\";position: absolute;border-left: 1px solid gray;box-sizing: border-box;top: 0;bottom: 0;left: 50%;z-index: 0;}#sk-container-id-2 div.sk-serial {display: flex;flex-direction: column;align-items: center;background-color: white;padding-right: 0.2em;padding-left: 0.2em;position: relative;}#sk-container-id-2 div.sk-item {position: relative;z-index: 1;}#sk-container-id-2 div.sk-parallel {display: flex;align-items: stretch;justify-content: center;background-color: white;position: relative;}#sk-container-id-2 div.sk-item::before, #sk-container-id-2 div.sk-parallel-item::before {content: \"\";position: absolute;border-left: 1px solid gray;box-sizing: border-box;top: 0;bottom: 0;left: 50%;z-index: -1;}#sk-container-id-2 div.sk-parallel-item {display: flex;flex-direction: column;z-index: 1;position: relative;background-color: white;}#sk-container-id-2 div.sk-parallel-item:first-child::after {align-self: flex-end;width: 50%;}#sk-container-id-2 div.sk-parallel-item:last-child::after {align-self: flex-start;width: 50%;}#sk-container-id-2 div.sk-parallel-item:only-child::after {width: 0;}#sk-container-id-2 div.sk-dashed-wrapped {border: 1px dashed gray;margin: 0 0.4em 0.5em 0.4em;box-sizing: border-box;padding-bottom: 0.4em;background-color: white;}#sk-container-id-2 div.sk-label label {font-family: monospace;font-weight: bold;display: inline-block;line-height: 1.2em;}#sk-container-id-2 div.sk-label-container {text-align: center;}#sk-container-id-2 div.sk-container {/* jupyter's `normalize.less` sets `[hidden] { display: none; }` but bootstrap.min.css set `[hidden] { display: none !important; }` so we also need the `!important` here to be able to override the default hidden behavior on the sphinx rendered scikit-learn.org. See: https://github.com/scikit-learn/scikit-learn/issues/21755 */display: inline-block !important;position: relative;}#sk-container-id-2 div.sk-text-repr-fallback {display: none;}</style><div id=\"sk-container-id-2\" class=\"sk-top-container\"><div class=\"sk-text-repr-fallback\"><pre>SVC(gamma=0.002, kernel=&#x27;linear&#x27;)</pre><b>In a Jupyter environment, please rerun this cell to show the HTML representation or trust the notebook. <br />On GitHub, the HTML representation is unable to render, please try loading this page with nbviewer.org.</b></div><div class=\"sk-container\" hidden><div class=\"sk-item\"><div class=\"sk-estimator sk-toggleable\"><input class=\"sk-toggleable__control sk-hidden--visually\" id=\"sk-estimator-id-2\" type=\"checkbox\" checked><label for=\"sk-estimator-id-2\" class=\"sk-toggleable__label sk-toggleable__label-arrow\">SVC</label><div class=\"sk-toggleable__content\"><pre>SVC(gamma=0.002, kernel=&#x27;linear&#x27;)</pre></div></div></div></div></div>"
      ],
      "text/plain": [
       "SVC(gamma=0.002, kernel='linear')"
      ]
     },
     "execution_count": 15,
     "metadata": {},
     "output_type": "execute_result"
    }
   ],
   "source": [
    "clf.fit(X, y)"
   ]
  },
  {
   "cell_type": "code",
   "execution_count": 16,
   "id": "9296398b-3e70-4c7e-800d-0ec7e0b39ed1",
   "metadata": {},
   "outputs": [],
   "source": [
    "from micromlgen import port\n",
    "labels = {\n",
    "        0: 'clap',\n",
    "        1: 'knock',\n",
    "        2: 'noise',\n",
    "        3: 'step',\n",
    "    }\n",
    "with open('svm.h', 'w') as f:\n",
    "    f.write(port(clf, classmap=labels))"
   ]
  },
  {
   "cell_type": "code",
   "execution_count": 17,
   "id": "3bef8cbc-da18-4468-a232-eaffe30550df",
   "metadata": {},
   "outputs": [],
   "source": [
    "y_pred2 = clf.predict(x_test)"
   ]
  },
  {
   "cell_type": "code",
   "execution_count": 18,
   "id": "3960b026-eb22-4304-bcb4-d57109ad0d4c",
   "metadata": {},
   "outputs": [
    {
     "name": "stdout",
     "output_type": "stream",
     "text": [
      "Accuracy: 90.0\n",
      "Precision: 88.34\n",
      "Recall: 84.29\n"
     ]
    },
    {
     "data": {
      "image/png": "[encoded data removed]",
      "text/plain": [
       "<Figure size 640x480 with 2 Axes>"
      ]
     },
     "metadata": {},
     "output_type": "display_data"
    }
   ],
   "source": [
    "print(\"Accuracy:\",round(metrics.accuracy_score(y_test, y_pred2)*100,2))\n",
    "print(\"Precision:\",round(metrics.precision_score(y_test, y_pred2,average='macro')*100,2))\n",
    "print(\"Recall:\",round(metrics.recall_score(y_test, y_pred2,average='macro')*100,2))\n",
    "sn.set(font_scale=1.4) # for label size\n",
    "sn.heatmap(confusion_matrix(y_test, y_pred2),xticklabels=['other', 'step'], yticklabels=['other', 'step'], annot=True, annot_kws={\"size\": 16})# font size\n",
    "plt.show()"
   ]
  },
  {
   "cell_type": "code",
   "execution_count": 19,
   "id": "a8c51371-4793-4b9d-b104-b58c21f0d7b9",
   "metadata": {},
   "outputs": [],
   "source": [
    "from IPython.display import Audio\n",
    "import librosa"
   ]
  },
  {
   "cell_type": "code",
   "execution_count": 20,
   "id": "0e773b0e-5d8d-4c9a-b767-bb3ab182c6ff",
   "metadata": {},
   "outputs": [],
   "source": [
    "step, sr = librosa.load(r\"C:/Users/valer/Desktop/THESIS/my_data_fromHAMK/steps/2.wav\" , sr = 16000, duration = 0.8)\n",
    "step*=10000"
   ]
  },
  {
   "cell_type": "code",
   "execution_count": 21,
   "id": "09363d5c-b75c-47f4-8b5b-c693b4ad74de",
   "metadata": {},
   "outputs": [
    {
     "data": {
      "text/html": [
       "\n",
       "                <audio  controls=\"controls\" >\n",
       "                    <source src=\"data:audio/wav;base64,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\" type=\"audio/wav\" />\n",
       "                    Your browser does not support the audio element.\n",
       "                </audio>\n",
       "              "
      ],
      "text/plain": [
       "<IPython.lib.display.Audio object>"
      ]
     },
     "execution_count": 21,
     "metadata": {},
     "output_type": "execute_result"
    }
   ],
   "source": [
    "Audio(data=step, rate=sr)"
   ]
  },
  {
   "cell_type": "code",
   "execution_count": 22,
   "id": "73401eb9-c237-458a-8ccf-5d9a753b313e",
   "metadata": {},
   "outputs": [],
   "source": [
    "y_real = 41\n"
   ]
  },
  {
   "cell_type": "code",
   "execution_count": 23,
   "id": "468de244-e5c6-40ac-9995-05dfddfa5ae3",
   "metadata": {},
   "outputs": [
    {
     "data": {
      "text/plain": [
       "<AxesSubplot: >"
      ]
     },
     "execution_count": 23,
     "metadata": {},
     "output_type": "execute_result"
    },
    {
     "data": {
      "image/png": "[encoded data removed]",
      "text/plain": [
       "<Figure size 640x480 with 2 Axes>"
      ]
     },
     "metadata": {},
     "output_type": "display_data"
    }
   ],
   "source": [
    "sn.heatmap(confusion_matrix(y_test, y_pred2),xticklabels=['other', 'step'], yticklabels=['other', 'step'], annot=True, annot_kws={\"size\": 16})# font size"
   ]
  }
 ],
 "metadata": {
  "kernelspec": {
   "display_name": "Python 3 (ipykernel)",
   "language": "python",
   "name": "python3"
  },
  "language_info": {
   "codemirror_mode": {
    "name": "ipython",
    "version": 3
   },
   "file_extension": ".py",
   "mimetype": "text/x-python",
   "name": "python",
   "nbconvert_exporter": "python",
   "pygments_lexer": "ipython3",
   "version": "3.10.9"
  }
 },
 "nbformat": 4,
 "nbformat_minor": 5
}
